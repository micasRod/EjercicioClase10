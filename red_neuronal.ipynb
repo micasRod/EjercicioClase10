{
  "nbformat": 4,
  "nbformat_minor": 0,
  "metadata": {
    "colab": {
      "name": "red neuronal",
      "provenance": [],
      "authorship_tag": "ABX9TyMwYElHVikPlCu1uhIKIQTa",
      "include_colab_link": true
    },
    "kernelspec": {
      "name": "python3",
      "display_name": "Python 3"
    },
    "language_info": {
      "name": "python"
    }
  },
  "cells": [
    {
      "cell_type": "markdown",
      "metadata": {
        "id": "view-in-github",
        "colab_type": "text"
      },
      "source": [
        "<a href=\"https://colab.research.google.com/github/micasRod/EjercicioClase10/blob/main/red_neuronal.ipynb\" target=\"_parent\"><img src=\"https://colab.research.google.com/assets/colab-badge.svg\" alt=\"Open In Colab\"/></a>"
      ]
    },
    {
      "cell_type": "code",
      "execution_count": 8,
      "metadata": {
        "id": "sea0V7NFUO7k"
      },
      "outputs": [],
      "source": [
        "import tensorflow as tf\n",
        "import numpy as np"
      ]
    },
    {
      "cell_type": "code",
      "source": [
        "celsius= np.array([-40,-10,0,8,15,22,38],dtype=float)\n",
        "fahrenheit= np.array ([-40,14,32,46,59,72,100],dtype=float)\n",
        "#capa= tf.keras.layers.Dense(units=1, input_shape=[1]) #capa densa, es dicir que TODAS las neuronas se interrelacionan\n",
        "#modelo= tf.keras.Sequential([capa])\n",
        "oculta1=tf.keras.laters.Dense(units=3, input_shape=[1])\n",
        "oculta2=tf.keras.laters.Dense(units=3)\n",
        "salida=tf.keras.layers.Dense(units=1)\n",
        "\n",
        "\n"
      ],
      "metadata": {
        "id": "hEAB979BUYNA"
      },
      "execution_count": 9,
      "outputs": []
    },
    {
      "cell_type": "code",
      "source": [
        "modelo.compile(\n",
        "    optimizer=tf.keras.optimizers.Adam(0.1),\n",
        "    loss='mean_squared_error'\n",
        ")"
      ],
      "metadata": {
        "id": "TQ3redetU-GM"
      },
      "execution_count": 10,
      "outputs": []
    },
    {
      "cell_type": "code",
      "source": [
        "print(\"comienzo\")\n",
        "historial= modelo.fit(celsius, fahrenheit, epochs=1000, verbose=False)\n",
        "print(\"acabo\")\n"
      ],
      "metadata": {
        "colab": {
          "base_uri": "https://localhost:8080/"
        },
        "id": "vCro8t2mVSbl",
        "outputId": "9102c12a-6923-4025-fd77-b498c2e8752d"
      },
      "execution_count": 11,
      "outputs": [
        {
          "output_type": "stream",
          "name": "stdout",
          "text": [
            "comienzo\n",
            "acabo\n"
          ]
        }
      ]
    },
    {
      "cell_type": "code",
      "source": [
        "import matplotlib.pyplot as plt #resultado de la funcion de perdida, osea veo que tan mal estan los resultados de la red\n",
        "plt.xlabel(\"Epoca\")\n",
        "plt.ylabel(\"magnitud de pérdida\")\n",
        "plt.plot(historial.history[\"loss\"])"
      ],
      "metadata": {
        "colab": {
          "base_uri": "https://localhost:8080/",
          "height": 300
        },
        "id": "CEX9Eg-PWAJT",
        "outputId": "fd6bf92d-04d4-4644-95ed-72c31643aae0"
      },
      "execution_count": 12,
      "outputs": [
        {
          "output_type": "execute_result",
          "data": {
            "text/plain": [
              "[<matplotlib.lines.Line2D at 0x7fa301fd34d0>]"
            ]
          },
          "metadata": {},
          "execution_count": 12
        },
        {
          "output_type": "display_data",
          "data": {
            "text/plain": [
              "<Figure size 432x288 with 1 Axes>"
            ],
            "image/png": "[encoded data removed]"
          },
          "metadata": {
            "needs_background": "light"
          }
        }
      ]
    },
    {
      "cell_type": "code",
      "source": [
        "print(\"Primera predict\")\n",
        "resultado=modelo.predict([100.0])\n",
        "print(\"el resultado es\"+ str(resultado)+ \"fahrenheit!\")"
      ],
      "metadata": {
        "colab": {
          "base_uri": "https://localhost:8080/"
        },
        "id": "Oc-Fnft7WcgB",
        "outputId": "a71779eb-b722-42a8-e64a-2df5afce254d"
      },
      "execution_count": 13,
      "outputs": [
        {
          "output_type": "stream",
          "name": "stdout",
          "text": [
            "Primera predict\n",
            "el resultado es[[211.74104]]fahrenheit!\n"
          ]
        }
      ]
    },
    {
      "cell_type": "code",
      "source": [
        "print(\"variables del modelo\")\n",
        "print(capa.get_weights())"
      ],
      "metadata": {
        "colab": {
          "base_uri": "https://localhost:8080/"
        },
        "id": "6d1EstVjXOR4",
        "outputId": "00002486-c7c8-4931-f17a-4c44d3841486"
      },
      "execution_count": 14,
      "outputs": [
        {
          "output_type": "stream",
          "name": "stdout",
          "text": [
            "variables del modelo\n",
            "[array([[1.7983574]], dtype=float32), array([31.90531], dtype=float32)]\n"
          ]
        }
      ]
    },
    {
      "cell_type": "markdown",
      "source": [
        ""
      ],
      "metadata": {
        "id": "uG51OhgFUPYt"
      }
    }
  ]
}